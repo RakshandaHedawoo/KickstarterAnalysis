{
 "cells": [
  {
   "cell_type": "markdown",
   "id": "9b29a60e-2841-4c3b-8ca9-0df7dac4f6c3",
   "metadata": {},
   "source": [
    "Name: Rakshanda Hedawoo  \n",
    "Course: BUDT704  \n",
    "Section: MB11  \n",
    "Date: 6th October 2023"
   ]
  },
  {
   "cell_type": "markdown",
   "id": "77691494-8a31-4d51-b404-a899bcbe3e5b",
   "metadata": {},
   "source": [
    "# Kickstarter's Fundraising Data Analysis\n",
    "Kickstarter (https://www.kickstarter.com) campaigns make ideas into reality. It’s where creators share new visions for creative work with the communities that will come together to fund them.  \n",
    "We have a kickstarter data with sample data of over 4000 kickstarter fundraising campaigns, having 13 columns that gives a summary of each campaign.\n",
    "\n",
    "#### DataSet Structure:\n",
    "1. **id (string)**  : Unique id for each record\n",
    "1. **name (string)** : Name of the campaign \n",
    "1. **goal (string)** : Funding goal for the campaign \n",
    "1. **pledged (decimal)** : Total funds collected for the campaign in local currencies \n",
    "1. **state (string)** : Status of the campaign(successful, failed, canceled, suspended, live) \n",
    "1. **country (string)** : Country from where the project was enrolled \n",
    "1. **currency (string)** : Currency of the country \n",
    "1. **currency_trailing_code (bool)** : Whether currency has a prefix country code \n",
    "1. **staff_pick (bool)** : Whether the project was Staff picked by Kickstarter \n",
    "1. **backers_count (int)** : Number of people who provided the funds \n",
    "1. **static_usd_rate (decimal)** : Conversion rate into USD \n",
    "1. **usd_pledged (decimal)** : Total funds collected for the campaign in USD \n",
    "1. **category (string)** :  Category of art project \n",
    "1. **spotlight (bool)** : Whether the project was Featured on Kickstarter "
   ]
  },
  {
   "cell_type": "code",
   "execution_count": 1,
   "id": "62c09a69-4623-4ceb-b5d9-5f03799effd5",
   "metadata": {
    "tags": []
   },
   "outputs": [],
   "source": [
    "#Importing data analysis and visualization libraries\n",
    "import numpy as np\n",
    "import matplotlib.pyplot as plt\n",
    "import seaborn as sns"
   ]
  },
  {
   "cell_type": "code",
   "execution_count": 2,
   "id": "b6d83e4b-ece7-4876-b639-d231bd7186ac",
   "metadata": {
    "tags": []
   },
   "outputs": [],
   "source": [
    "#Getting data from csv file for analysis\n",
    "def loadData(column_number,datatype='float'):\n",
    "    return np.loadtxt('HW3_kickstarter.csv',dtype=datatype,skiprows=1, usecols=column_number, delimiter=',')"
   ]
  },
  {
   "cell_type": "markdown",
   "id": "8ae94fa2-0f5b-45c7-b972-2cd7ee88153b",
   "metadata": {},
   "source": [
    "## Analysing Amount of pledges raised for Kickstarter projects\n",
    "The main motive of these campaign's is fundraising for projects that bring value to the art domain. Let us analyse how much funds campaigns were able to raise.  \n",
    "The descriptive statistics displayed below gives us an overview that out of 4184 projects, there were some projects that failed to get any funds with minimum pledge being 0.  \n",
    "Further, the a particular campaign was able to gather the highest amount of pledge being around 110K dollars  \n",
    "Finally, on an average the campaigns were able to collect funds around 1242 dollars. However, the pledges varied a lot depending on projects, hence the variation in amount was around 5K dollars."
   ]
  },
  {
   "cell_type": "code",
   "execution_count": 3,
   "id": "f26dead4-f150-40eb-8d17-30d6d6f378fc",
   "metadata": {},
   "outputs": [
    {
     "data": {
      "text/plain": [
       "array([ 321.       ,  857.0681028, 4431.12     , ...,   50.       ,\n",
       "        220.2370882,  155.       ])"
      ]
     },
     "execution_count": 3,
     "metadata": {},
     "output_type": "execute_result"
    }
   ],
   "source": [
    "#Load the amount pledged (in U.S. dollars) data across all projects.\n",
    "amount_pledged = loadData(11)\n",
    "amount_pledged"
   ]
  },
  {
   "cell_type": "code",
   "execution_count": 4,
   "id": "1a900048-eb0e-4fa9-be2e-2f0a092fb1db",
   "metadata": {
    "tags": []
   },
   "outputs": [
    {
     "name": "stdout",
     "output_type": "stream",
     "text": [
      "Total number of projects: 4184\n",
      "Minimum amount pledged: 0.0\n",
      "Maximum amount pledged: 111111.77\n",
      "Mean of amount pledged: 1242.12\n",
      "Median of amount pledged: 90.00\n",
      "Standard Deviation of amount pledged: 5177.93\n",
      "10.59% of projects were able to get funds of at least $2500.\n"
     ]
    }
   ],
   "source": [
    "#Analysing data on basic descriptive statistics\n",
    "minimum_pledge_amt =2500\n",
    "print('Total number of projects:',amount_pledged.size)\n",
    "print('Minimum amount pledged:',amount_pledged.min())\n",
    "print(f'Maximum amount pledged: {amount_pledged.max():.2f}')\n",
    "print(f'Mean of amount pledged: {amount_pledged.mean():.2f}')\n",
    "print(f'Median of amount pledged: {np.median(amount_pledged):.2f}')\n",
    "print(f'Standard Deviation of amount pledged: {amount_pledged.std():.2f}')\n",
    "\n",
    "filtered_pledges = ((amount_pledged[amount_pledged>=minimum_pledge_amt]).size/amount_pledged.size)*100\n",
    "print(f'{filtered_pledges:.2f}% of projects were able to get funds of at least $2500.')"
   ]
  },
  {
   "cell_type": "markdown",
   "id": "d4bf408e-86b4-4078-be9c-1c8ced3e7bd5",
   "metadata": {},
   "source": [
    "## Analysing Category of Kickstarter projects\n",
    "Being able to know how much pledges were raised does not give us context on which type of projects pledges were raised. For that purpose let us look at the different categories of the project.  \n",
    "**There are 5 categories of projects:**\n",
    "* Ceramics\n",
    "* Conceptual Art  \n",
    "* Digital Art\n",
    "* Illustration\n",
    "* Painting"
   ]
  },
  {
   "cell_type": "code",
   "execution_count": 5,
   "id": "e58032bb-238c-45a6-b941-278b28c82c8d",
   "metadata": {
    "tags": []
   },
   "outputs": [
    {
     "data": {
      "text/plain": [
       "array(['Ceramics', 'Conceptual Art', 'Digital Art', 'Illustration',\n",
       "       'Painting'], dtype='<U14')"
      ]
     },
     "execution_count": 5,
     "metadata": {},
     "output_type": "execute_result"
    }
   ],
   "source": [
    "category_data = loadData(12,'str')\n",
    "#determining categories of project\n",
    "unique_categories = np.unique(category_data)\n",
    "unique_categories"
   ]
  },
  {
   "cell_type": "code",
   "execution_count": 6,
   "id": "278966e2-940d-4e10-a2d8-c156e7a1d787",
   "metadata": {
    "tags": []
   },
   "outputs": [
    {
     "name": "stdout",
     "output_type": "stream",
     "text": [
      "Number of projects in each actegory: [204, 879, 1054, 461, 1586]\n",
      "Percentage of projects for each category:  [4.875717017208412, 21.008604206500955, 25.191204588910132, 11.018164435946463, 37.90630975143404]\n"
     ]
    }
   ],
   "source": [
    "#determining how many projects Kickstarter supports based on their category\n",
    "category_frequency = []\n",
    "category_percentage = []\n",
    "\n",
    "for i in range(0,unique_categories.size):\n",
    "    x = np.array(np.where(category_data == unique_categories[i])).size\n",
    "    category_frequency.append(x)\n",
    "    category_percentage.append((x/category_data.size)*100)\n",
    "    \n",
    "print('Number of projects in each actegory:',category_frequency)\n",
    "print('Percentage of projects for each category: ',category_percentage)\n"
   ]
  },
  {
   "cell_type": "markdown",
   "id": "16d7f0ca-77e5-4f03-9e24-e929e889927b",
   "metadata": {},
   "source": [
    "### Let us have a look at the snapshot of proportion of projects for each category\n",
    "\n"
   ]
  },
  {
   "cell_type": "code",
   "execution_count": 7,
   "id": "4c7c0a88-b592-4bc3-a148-ad2f61f8d7e7",
   "metadata": {
    "tags": []
   },
   "outputs": [
    {
     "data": {
      "image/png": "[encoded data removed]",
      "text/plain": [
       "<Figure size 640x480 with 1 Axes>"
      ]
     },
     "metadata": {},
     "output_type": "display_data"
    }
   ],
   "source": [
    "#visualizing above data to get a clear picture\n",
    "sns.set_style('darkgrid')\n",
    "category_barchart_title = 'Category-wise Proportion of Kickstarter Projects'\n",
    "category_barchart_axes = sns.barplot(x=unique_categories, y=category_percentage,)\n",
    "category_barchart_axes.set(xlabel = 'Categories', ylabel = 'Percentage')\n",
    "category_barchart_axes.set_title(category_barchart_title)\n",
    "\n",
    "#formatting and labelling the chart\n",
    "for bar, percentage in zip(category_barchart_axes.patches, category_percentage):\n",
    "    text_x = bar.get_x() + bar.get_width() / 2.0\n",
    "    text_y = bar.get_height()\n",
    "    text = f'{percentage:.2f}%'\n",
    "    category_barchart_axes.text(text_x, text_y, text, fontsize=9, ha='center', va='bottom')"
   ]
  },
  {
   "cell_type": "markdown",
   "id": "e810cd7d-d3ff-45e3-bc6b-e4d8342d8ced",
   "metadata": {},
   "source": [
    "## Inference:\n",
    "1. From the bar graph it is evident that 37.91% of campaigned projects at Kickstarter were Paintings, followed by Digital Art at 25.19%, Conceptual Art at 21.01%, and Illustration at 11.02%.\n",
    "1. However, only 4.8% of Ceramics projects were supported by Kickstarter in fundraising. This might be the case due a possible reason that paintings are more durable and easy to create, as compared to fragile and complicated ceramic art works.\n",
    "1. On the contary, as Digital arts are more easy to maintain as compared to paintings, still the number of digital art projects is less than paintings. This might be because majority of people are still equiped with older ways of painting and do not have much knowledge on how technology can be used to make art.\n",
    "1. Therefore, technology related arts like illustrations are also minority in number. \n",
    "1. Finally, Conceptual art works are realted to ideas and innovation with the help of which an artist creates the artpiece. Assuming the effort and complexity of this art, not many artist would create their art in this category, due to which the proportion of this project category is low."
   ]
  },
  {
   "cell_type": "markdown",
   "id": "bcaa83b3-902a-47b8-a24b-1e026e3bed0c",
   "metadata": {},
   "source": [
    "## Analysing States of Kickstarter Projects\n",
    "Now that we have the context behind what are the different types of projects Kickstarter supports and how much pledges it raised, lets see what happens to those projects next.  \n",
    "After a campaign raises funds for the project, based on whether a campaign met their objective or not they are further categorized as:\n",
    "* **Successful** : campaigns that successfully raised amount equal to or greater than the goal fund\n",
    "* **Failed** : campaigns that failed to raise funds\n",
    "* **Suspended** : campaigns that did not get many people to raise funds\n",
    "* **Canceled** : campaigns that were canceled \n",
    "* **Live** : ongoing campaigns that are currently raising the funds\n"
   ]
  },
  {
   "cell_type": "code",
   "execution_count": 8,
   "id": "dad7506c-b218-4a21-a401-e3e1185e29f8",
   "metadata": {
    "tags": []
   },
   "outputs": [
    {
     "data": {
      "text/plain": [
       "array(['canceled', 'failed', 'live', 'successful', 'suspended'],\n",
       "      dtype='<U10')"
      ]
     },
     "execution_count": 8,
     "metadata": {},
     "output_type": "execute_result"
    }
   ],
   "source": [
    "project_states_data = loadData(4,'str')\n",
    "distinct_project_states = np.unique(project_states_data)\n",
    "distinct_project_states"
   ]
  },
  {
   "cell_type": "code",
   "execution_count": 9,
   "id": "44c4b35b-ed9b-4c30-bf39-cc0b9019ae5d",
   "metadata": {
    "tags": []
   },
   "outputs": [],
   "source": [
    "#Combining category and project states data to analyse together\n",
    "category_and_prjstates_data = np.vstack((category_data, project_states_data))\n",
    "\n",
    "#Analysing successful projects \n",
    "successfulprj_categorywise = []\n",
    "\n",
    "for i in range(0,category_data.size):\n",
    "    if(category_and_prjstates_data[1][i] == distinct_project_states[3]): #states[3] = successful\n",
    "        successfulprj_categorywise.append(category_and_prjstates_data[0][i])\n",
    "\n",
    "#Analysing successful project categorywise\n",
    "success_categorywise_count = np.zeros(unique_categories.size)\n",
    "\n",
    "for category in successfulprj_categorywise:\n",
    "    if(category == unique_categories[0]): #Ceramics\n",
    "        success_categorywise_count[0]+=1\n",
    "    elif(category == unique_categories[1]):  #Conceptual Art\n",
    "        success_categorywise_count[1]+=1\n",
    "    elif(category == unique_categories[2]):  #Digital Art\n",
    "        success_categorywise_count[2]+=1\n",
    "    elif(category == unique_categories[3]):   #Illustration\n",
    "        success_categorywise_count[3]+=1\n",
    "    elif(category == unique_categories[4]):   #Paintings\n",
    "        success_categorywise_count[4]+=1\n",
    "\n",
    "#Calculating percentage of success rate to determine which category was the most successful\n",
    "success_categorwise_prop = np.where(success_categorywise_count>0.0,(success_categorywise_count/len(successfulprj_categorywise))*100,0.0)\n"
   ]
  },
  {
   "cell_type": "code",
   "execution_count": 10,
   "id": "b9e5231b-64b6-4967-a3d4-f6f50ed58e1c",
   "metadata": {
    "tags": []
   },
   "outputs": [
    {
     "data": {
      "image/png": "[encoded data removed]",
      "text/plain": [
       "<Figure size 640x480 with 1 Axes>"
      ]
     },
     "metadata": {},
     "output_type": "display_data"
    }
   ],
   "source": [
    "#making a visualization for understanding success ratio of project categorywise\n",
    "sns.set_style('darkgrid')\n",
    "state_barchart_title = 'Category-wise proportion of successful Kickstarter projects'\n",
    "state_barchart_axes = sns.barplot(x = unique_categories, y = success_categorwise_prop)\n",
    "state_barchart_axes.set(xlabel = 'Categories', ylabel = 'Success Percentage')\n",
    "state_barchart_axes.set_title(state_barchart_title)\n",
    "\n",
    "#formatting and labelling the chart\n",
    "for bar, percentage in zip(state_barchart_axes.patches, success_categorwise_prop):\n",
    "    text_x = bar.get_x() + bar.get_width() / 2.0\n",
    "    text_y = bar.get_height()\n",
    "    text = f'{percentage:.2f}%'\n",
    "    state_barchart_axes.text(text_x, text_y, text, fontsize=9, ha='center', va='bottom')"
   ]
  },
  {
   "cell_type": "markdown",
   "id": "cc859811-9395-4650-b5c5-a91af23ecded",
   "metadata": {},
   "source": [
    "## Inference:\n",
    "1. Firstly, the most successful project category was Conceptual Art and the least successful project categories were Illustration and Painting.\n",
    "1. Earlier as we saw, majority of the projects were under Paintings, despite of having such large number of projects the success rate of Painting category is 0!\n",
    "1. This implies, majority of the Kickstarter projects that come under Paintings and illustrations either failed to raise the goal fund or were canceled/suspended from Kickstarter's side or the project owner's side.\n",
    "1. Looking at this, Kickstarter should make some decision on whether to remove the Paintings and illustration category from their enrollment, as people are not genuinely inetersted in raising funds for those kind of projects.\n",
    "1. Finally, conceptual art category is the winner here because though the proportion of it's category was less, the value that these masterpieces bring is much higher than any of these art forms. Hence, majority of people were willing to raise funds for these projects which led to higher success rate."
   ]
  },
  {
   "cell_type": "markdown",
   "id": "e1e81267-e5cb-4c48-82a7-12a7bfc0573a",
   "metadata": {},
   "source": [
    "## Analysing Staff Picked v/s SpotLight Kickstarter Projects\n",
    "Now that we know how many successful campaigns were organized by Kickstarters, let us now see how many of them got featured on Kickstarter's website and which were the projects that were selected by the staff of Kickstarters. \n",
    "\n"
   ]
  },
  {
   "cell_type": "code",
   "execution_count": 11,
   "id": "b5d65933-5dec-4c9c-87a4-55b2e2d27d56",
   "metadata": {
    "tags": []
   },
   "outputs": [],
   "source": [
    "staff_pick_data = loadData(8,'str')\n",
    "spotlight_data = loadData(13,'str')\n",
    "\n",
    "#Converting string value into boolean to help analyse the data\n",
    "staff_pick = np.where(staff_pick_data=='TRUE',True,False)\n",
    "spotlight = np.where(spotlight_data=='TRUE',True,False)"
   ]
  },
  {
   "cell_type": "code",
   "execution_count": 12,
   "id": "928967e2-d6b3-4707-adf1-3aa46d5241da",
   "metadata": {
    "tags": []
   },
   "outputs": [
    {
     "name": "stdout",
     "output_type": "stream",
     "text": [
      "Total number of staff picked projects: 224\n",
      "Total number of Spotlight projects: 692\n"
     ]
    }
   ],
   "source": [
    "#determining number of projects staffpicked v/s spotlight\n",
    "number_staff_pick_projects = project_states_data[staff_pick]\n",
    "number_spotlight_projects = project_states_data[spotlight]\n",
    "\n",
    "print('Total number of staff picked projects:',number_staff_pick_projects.size)\n",
    "print('Total number of Spotlight projects:',number_spotlight_projects.size)"
   ]
  },
  {
   "cell_type": "code",
   "execution_count": 13,
   "id": "97767fe4-7614-4581-9c87-555cce0f4377",
   "metadata": {
    "tags": []
   },
   "outputs": [
    {
     "name": "stdout",
     "output_type": "stream",
     "text": [
      "Success rate of staff pick projects: 72.77%\n",
      "Success rate of spotlight projects: 100.00%\n"
     ]
    }
   ],
   "source": [
    "#success rate of each feature\n",
    "successful_staff_pick_projects = ((number_staff_pick_projects[number_staff_pick_projects == 'successful']).size/number_staff_pick_projects.size)*100\n",
    "successful_spotlight_projects = ((number_spotlight_projects[number_spotlight_projects == 'successful']).size/number_spotlight_projects.size)*100\n",
    "\n",
    "print(f'Success rate of staff pick projects: {successful_staff_pick_projects:.2f}%')\n",
    "print(f'Success rate of spotlight projects: {successful_spotlight_projects:.2f}%')"
   ]
  },
  {
   "cell_type": "markdown",
   "id": "c368a080-fc58-4665-bee7-3004ee023d2c",
   "metadata": {},
   "source": [
    "\n",
    "| Type of Project | Number of Total Projects | Number of Successful Projects | Success Rate |\n",
    "| --- | --- | --- | --- |\n",
    "| Staff Picked | 224 | 163 | 72.77% |\n",
    "| Spotlight | 692 | 692 | 100.00 % |"
   ]
  },
  {
   "cell_type": "markdown",
   "id": "3b69480e-5111-45b6-b247-a055d93b89be",
   "metadata": {},
   "source": [
    "## Inference:\n",
    "* Spotlight projects are associated with a higher percentage of successful projects with success rate of 100%.\n",
    "* The success rate of spotlight projects is higher because only the successful projects were featured on the website. However, the staff pick projects comprises of successful, failed, canceled and suspended states of projects. \n",
    "* As, it is not necessary that every project selected by Kickstarter's staff will be successful however, success rate depends on whether the campaign was able to collect equal or greater than the goal fund.\n",
    "* The bifurcation of spotlight and staffpicked exists because, Kickstarter wants to showcase the higher number of successful projects on it's website under featured/spotlight section to attract more people in order to promote their ongoing campaigns.\n",
    "* This also gives an illusion to the project owners that if they enroll in Kickstarter to get funds; their chances of getting funds will be higher as Kickstarters success rate is higher.  "
   ]
  },
  {
   "cell_type": "markdown",
   "id": "7a6002b0-07bc-49ee-9a6f-ade42b6891e8",
   "metadata": {},
   "source": [
    "## Analysing Projects Geographically\n",
    "Now that we have analysed various categories of projects, their pledged amount, and different states along with their success rate, let's analyse further how projects are contributed globally.  \n",
    "There are currently 17 countries contributing to the Kickstarter's platform by enrolling their projects for fundraising."
   ]
  },
  {
   "cell_type": "code",
   "execution_count": 14,
   "id": "836269cd-d914-4d2e-b052-989eea23943f",
   "metadata": {},
   "outputs": [
    {
     "name": "stdout",
     "output_type": "stream",
     "text": [
      "['AT' 'AU' 'BE' 'CA' 'CH' 'DE' 'DK' 'ES' 'FR' 'GB' 'IE' 'IT' 'NL' 'NO'\n",
      " 'NZ' 'SE' 'US']\n",
      "Number of distinct countries: 17\n"
     ]
    }
   ],
   "source": [
    "#Determining countries which contributed through their projects\n",
    "country_data = loadData(5,'str')\n",
    "print(np.unique(country_data))\n",
    "print('Number of distinct countries:',np.unique(country_data).size)\n",
    "country_project_stat_data = np.vstack((country_data,project_states_data))\n",
    "\n",
    "country_project_success = {'AT':0, 'AU':0, 'BE':0, 'CA':0, 'CH':0, 'DE':0, 'DK':0, 'ES':0, 'FR':0, 'GB':0, 'IE':0,\n",
    "       'IT':0, 'NL':0, 'NO':0, 'NZ':0, 'SE':0, 'US':0}"
   ]
  },
  {
   "cell_type": "markdown",
   "id": "47be8502-fa87-46ce-bea3-45f7de7fb35b",
   "metadata": {},
   "source": [
    "### Now that we have some data based on which countries are contributing, let us analyse it further on how many countries are enrolling projects that led to being successful."
   ]
  },
  {
   "cell_type": "code",
   "execution_count": 15,
   "id": "f0a65de3-0ea0-402d-895c-fc2bf9bfbbca",
   "metadata": {
    "tags": []
   },
   "outputs": [
    {
     "name": "stdout",
     "output_type": "stream",
     "text": [
      "Total number of successful projects: 692\n"
     ]
    }
   ],
   "source": [
    "#filtering successful projects countrywise\n",
    "successful = np.array(np.where(country_project_stat_data[1] == 'successful',country_project_stat_data[0],0))\n",
    "successful = successful[successful!='0']\n",
    "print('Total number of successful projects:',successful.size)\n",
    "\n",
    "for i in successful:\n",
    "    country_project_success[i] +=1\n"
   ]
  },
  {
   "cell_type": "code",
   "execution_count": 16,
   "id": "a3867334-0968-43f2-8231-6e2ed1566411",
   "metadata": {
    "tags": []
   },
   "outputs": [
    {
     "name": "stdout",
     "output_type": "stream",
     "text": [
      "['GB' 'US' 'Other']\n",
      "[ 56 594  42]\n"
     ]
    }
   ],
   "source": [
    "#creating bucket of countries which have less number of successful projects for more clarifying results\n",
    "minimum_project_number = 50\n",
    "numbers_greater_100 = {key : values for key,values in country_project_success.items() if values>minimum_project_number}\n",
    "numbers_lesser_100 = {key : values for key,values in country_project_success.items() if values<=minimum_project_number}\n",
    "\n",
    "numbers_greater_100['Other'] = np.array(list(numbers_lesser_100.values())).sum()\n",
    "countries = np.array(list(numbers_greater_100.keys()))\n",
    "frequency = np.array(list(numbers_greater_100.values()))\n",
    "print(countries)\n",
    "print(frequency)\n"
   ]
  },
  {
   "cell_type": "code",
   "execution_count": 17,
   "id": "da41a8be-c415-4472-9a03-cfdcae1675d0",
   "metadata": {
    "tags": []
   },
   "outputs": [
    {
     "data": {
      "image/png": "[encoded data removed]",
      "text/plain": [
       "<Figure size 640x480 with 1 Axes>"
      ]
     },
     "metadata": {},
     "output_type": "display_data"
    }
   ],
   "source": [
    "#creating pie chart to oversee the contribution of each country\n",
    "data = frequency\n",
    "labels = countries\n",
    "\n",
    "#define Seaborn color palette to use\n",
    "colors = sns.color_palette('pastel')[0:5]\n",
    "\n",
    "#create pie chart\n",
    "plt.pie(data, labels = labels, colors = colors, autopct='%.2f%%')\n",
    "plt.title('Country-wise successful Kickstarter projects')\n",
    "plt.show()\n"
   ]
  },
  {
   "cell_type": "markdown",
   "id": "aa4e056b-c1d4-4a3a-be54-f7efa0141ec1",
   "metadata": {},
   "source": [
    "## Inference:\n",
    "1. To begin with, out of 4184 projects, 692 projects were successful; out of which 85.84% was contributed by United States.\n",
    "1. From the remaining share, 8.09% was contributed by Great Britain and 6.07% was contributed by other countries.\n",
    "1. One possible reason behind US being the major contributor can be; as Kickstarter is a US based company, it's primary target were artists residing in the US who are in need of fundings.\n",
    "1. Once, Kickstarter was able to see good results from its campaigns in US, it then opened the platform for other countries to join and contribute. As United States got a head start with Kickstarter, they are leading in their contribution as compared to other countries.\n",
    "1. Finally, Great Britain contributed around 2% more than 15 countries' combined contribution. This is an indicator that, in the coming years, there can be an exponential increase in the contribution of Great Britain."
   ]
  },
  {
   "cell_type": "markdown",
   "id": "ab91476c-68d2-4699-90d5-4e8197df0b2f",
   "metadata": {
    "tags": []
   },
   "source": [
    "\"I pledge on my honor that I have not given nor received any unauthorized assistance on this assignment.\"  \n",
    "--Rakshanda Hedawoo"
   ]
  }
 ],
 "metadata": {
  "kernelspec": {
   "display_name": "Python 3 (ipykernel)",
   "language": "python",
   "name": "python3"
  },
  "language_info": {
   "codemirror_mode": {
    "name": "ipython",
    "version": 3
   },
   "file_extension": ".py",
   "mimetype": "text/x-python",
   "name": "python",
   "nbconvert_exporter": "python",
   "pygments_lexer": "ipython3",
   "version": "3.11.4"
  }
 },
 "nbformat": 4,
 "nbformat_minor": 5
}
